{
 "cells": [
  {
   "cell_type": "code",
   "execution_count": 18,
   "id": "20f589db",
   "metadata": {},
   "outputs": [],
   "source": [
    "\n",
    "import pandas as pd\n",
    "##Importando base de dados do github\n",
    "df = pd.read_csv('https://raw.githubusercontent.com/digitalinnovationone/live-coding-evitando-o-7x1-com-python-e-sql/main/data.csv')\n"
   ]
  },
  {
   "cell_type": "code",
   "execution_count": 19,
   "id": "10a13ab0",
   "metadata": {},
   "outputs": [],
   "source": [
    "##Criando classe que representa o time\n",
    "import random \n",
    "\n",
    "class Team:\n",
    "    maiorScore = 1837.6 ##Maior score (Brasil)\n",
    "    def __init__ (self, content):\n",
    "        teamData = content.split('|')\n",
    "        self.name = teamData[0]\n",
    "        self.score = float(teamData[1])\n",
    "        \n",
    "    ##Criando algoritmo de motivacao\n",
    "    def motivacao(self):\n",
    "        \"\"\"\n",
    "        Logica: maiorScore = 1837.6    ------- 100\n",
    "                menorScore = 1393.5   ------- 75.8\n",
    "        Gana que possui o menorScore poderia ter um range de motivacao de 70 a 75 e o brasil por exemplo de 75 a 100\n",
    "        \"\"\"\n",
    "        self.ultimaMotivacao = random.uniform(70, (self.score*100)/Team.maiorScore)\n",
    "        return self.ultimaMotivacao\n",
    "        "
   ]
  },
  {
   "cell_type": "code",
   "execution_count": 20,
   "id": "2f051aec",
   "metadata": {},
   "outputs": [
    {
     "name": "stdout",
     "output_type": "stream",
     "text": [
      "Grupo A : SEN ( 84.16) HOL ( 79.49) EQU ( 77.22) CAT ( 76.22) \n",
      "Grupo B : ING ( 85.88) GAL ( 82.05) IRA ( 81.49) EUA ( 78.45) \n",
      "Grupo C : MEX ( 84.48) ARG ( 82.13) POL ( 74.24) ARA ( 70.30) \n",
      "Grupo D : FRA ( 89.55) DIN ( 88.46) AUS ( 74.04) TUN ( 71.42) \n",
      "Grupo E : JAP ( 79.56) ALE ( 75.45) COS ( 70.60) ESP ( 70.43) \n",
      "Grupo F : BEL ( 85.60) MAR ( 82.79) CAN ( 75.25) CRO ( 73.05) \n",
      "Grupo G : BRA ( 84.78) SER ( 79.92) SUI ( 74.23) CAM ( 72.95) \n",
      "Grupo H : URU ( 88.12) POR ( 77.52) GAN ( 72.55) COR ( 72.26) \n"
     ]
    }
   ],
   "source": [
    "melhoresEquipesPorGrupo = {}\n",
    "\n",
    "##Lendo itens do dataframe:\n",
    "for label, content in df.items():\n",
    "    ##Criando objetos passando os itens lidos do dataframe\n",
    "    team1 = Team(content[0])\n",
    "    team2 = Team(content[1])\n",
    "    team3 = Team(content[2])\n",
    "    team4 = Team(content[3])\n",
    "    \n",
    "    ##Criando os grupos de jogos com os objetos criados e ordenando pela maior motivacao\n",
    "    melhoresEquipesPorGrupo[label] = sorted([team1, team2, team3, team4], key = Team.motivacao, reverse=True)\n",
    "    \n",
    "##Imprimindo os grupos, ordenados pelas melhores seleções de cada (apenas 2 se classificam)\n",
    "for grupo, timesMotivados in melhoresEquipesPorGrupo.items():\n",
    "    print(f'Grupo {grupo} : ', end =\"\")\n",
    "    for team in timesMotivados:\n",
    "        print(f'{team.name} ({team.ultimaMotivacao: .2f}) ', end = \"\")\n",
    "    print()"
   ]
  },
  {
   "cell_type": "code",
   "execution_count": 21,
   "id": "38a22ad3",
   "metadata": {},
   "outputs": [
    {
     "name": "stdout",
     "output_type": "stream",
     "text": [
      "SEN (80.52) x GAL (80.15)\n",
      "MEX (82.12) x DIN (73.00)\n",
      "JAP (82.04) x MAR (73.57)\n",
      "BRA (89.18) x POR (80.08)\n",
      "ING (79.45) x HOL (83.79)\n",
      "FRA (90.42) x ARG (87.49)\n",
      "BEL (73.34) x ALE (79.45)\n",
      "URU (78.98) x SER (71.94)\n"
     ]
    }
   ],
   "source": [
    "##Criando grupo para as oitavas de final\n",
    "\n",
    "team1A = melhoresEquipesPorGrupo['A'][0]\n",
    "team2A = melhoresEquipesPorGrupo['A'][1]\n",
    "team1B = melhoresEquipesPorGrupo['B'][0]\n",
    "team2B = melhoresEquipesPorGrupo['B'][1]\n",
    "team1C = melhoresEquipesPorGrupo['C'][0]\n",
    "team2C = melhoresEquipesPorGrupo['C'][1]\n",
    "team1D = melhoresEquipesPorGrupo['D'][0]\n",
    "team2D = melhoresEquipesPorGrupo['D'][1]\n",
    "team1E = melhoresEquipesPorGrupo['E'][0]\n",
    "team2E = melhoresEquipesPorGrupo['E'][1]\n",
    "team1F = melhoresEquipesPorGrupo['F'][0]\n",
    "team2F = melhoresEquipesPorGrupo['F'][1]\n",
    "team1G = melhoresEquipesPorGrupo['G'][0]\n",
    "team2G = melhoresEquipesPorGrupo['G'][1]\n",
    "team1H = melhoresEquipesPorGrupo['H'][0]\n",
    "team2H = melhoresEquipesPorGrupo['H'][1]\n",
    "\n",
    "# TODO: Simular os confrontos das Oitavas de Final (randomizando novamente suas respectivas motivações).\n",
    "#       Além disso, também definir os classificados para as quartas de final em novas vaiáveis:\n",
    "quarter1 = team1A if team1A.motivacao() > team2B.motivacao() else team2B\n",
    "quarter2 = team1C if team1C.motivacao() > team2D.motivacao() else team2D\n",
    "quarter3 = team1E if team1E.motivacao() > team2F.motivacao() else team2F\n",
    "quarter4 = team1G if team1G.motivacao() > team2H.motivacao() else team2H\n",
    "quarter5 = team1B if team1B.motivacao() > team2A.motivacao() else team2A\n",
    "quarter6 = team1D if team1D.motivacao() > team2C.motivacao() else team2C\n",
    "quarter7 = team1F if team1F.motivacao() > team2E.motivacao() else team2E\n",
    "quarter8 = team1H if team1H.motivacao() > team2G.motivacao() else team2G\n",
    "\n",
    "\n",
    "# TODO: Imprimir os \"resultados\" dos confrontos realizados nas Oitavas de Final:\n",
    "print(f'{team1A.name} ({team1A.ultimaMotivacao:.2f}) x {team2B.name} ({team2B.ultimaMotivacao:.2f})')\n",
    "print(f'{team1C.name} ({team1C.ultimaMotivacao:.2f}) x {team2D.name} ({team2D.ultimaMotivacao:.2f})')\n",
    "print(f'{team1E.name} ({team1E.ultimaMotivacao:.2f}) x {team2F.name} ({team2F.ultimaMotivacao:.2f})')\n",
    "print(f'{team1G.name} ({team1G.ultimaMotivacao:.2f}) x {team2H.name} ({team2H.ultimaMotivacao:.2f})')\n",
    "print(f'{team1B.name} ({team1B.ultimaMotivacao:.2f}) x {team2A.name} ({team2A.ultimaMotivacao:.2f})')\n",
    "print(f'{team1D.name} ({team1D.ultimaMotivacao:.2f}) x {team2C.name} ({team2C.ultimaMotivacao:.2f})')\n",
    "print(f'{team1F.name} ({team1F.ultimaMotivacao:.2f}) x {team2E.name} ({team2E.ultimaMotivacao:.2f})')\n",
    "print(f'{team1H.name} ({team1H.ultimaMotivacao:.2f}) x {team2G.name} ({team2G.ultimaMotivacao:.2f})')"
   ]
  },
  {
   "cell_type": "code",
   "execution_count": 22,
   "id": "3e28c096",
   "metadata": {},
   "outputs": [
    {
     "name": "stdout",
     "output_type": "stream",
     "text": [
      "SEN (78.53) x MEX (87.00)\n",
      "JAP (80.16) x BRA (95.55)\n",
      "HOL (80.93) x FRA (87.86)\n",
      "ALE (83.89) x URU (89.21)\n"
     ]
    }
   ],
   "source": [
    "## Simulando as quartas de final \n",
    "\n",
    "# TODO: Simular os confrontos das Quartas de Final (randomizando novamente suas respectivas motivações).\n",
    "#       Além disso, também definir os classificados para as semifinais em novas vaiáveis:\n",
    "semi1 = quarter1 if quarter1.motivacao() > quarter2.motivacao() else quarter2\n",
    "semi2 = quarter3 if quarter3.motivacao() > quarter4.motivacao() else quarter4\n",
    "semi3 = quarter5 if quarter5.motivacao() > quarter6.motivacao() else quarter6\n",
    "semi4 = quarter7 if quarter7.motivacao() > quarter8.motivacao() else quarter8\n",
    "\n",
    "# TODO: Imprimir os \"resultados\" dos confrontos realizados nas Quartas de Final:\n",
    "print(f'{quarter1.name} ({quarter1.ultimaMotivacao:.2f}) x {quarter2.name} ({quarter2.ultimaMotivacao:.2f})')\n",
    "print(f'{quarter3.name} ({quarter3.ultimaMotivacao:.2f}) x {quarter4.name} ({quarter4.ultimaMotivacao:.2f})')\n",
    "print(f'{quarter5.name} ({quarter5.ultimaMotivacao:.2f}) x {quarter6.name} ({quarter6.ultimaMotivacao:.2f})')\n",
    "print(f'{quarter7.name} ({quarter7.ultimaMotivacao:.2f}) x {quarter8.name} ({quarter8.ultimaMotivacao:.2f})')"
   ]
  },
  {
   "cell_type": "code",
   "execution_count": 23,
   "id": "9e7f8abc",
   "metadata": {},
   "outputs": [
    {
     "name": "stdout",
     "output_type": "stream",
     "text": [
      "MEX (82.65) x BRA (75.49)\n",
      "FRA (72.19) x URU (87.46)\n"
     ]
    }
   ],
   "source": [
    "##Simulando as semi-finais\n",
    "\n",
    "final1 = semi1 if semi1.motivacao() > semi2.motivacao() else semi2\n",
    "terceiro1 = semi1 if semi1.ultimaMotivacao < semi2.ultimaMotivacao else semi2\n",
    "\n",
    "final2 = None\n",
    "terceiro2 = None\n",
    "if semi3.motivacao() > semi4.motivacao():\n",
    "  final2 = semi3\n",
    "  terceiro2 = semi4\n",
    "else:\n",
    "  final2 = semi4\n",
    "  terceiro2 = semi3\n",
    "\n",
    "# TODO: Imprimir os \"resultados\" dos confrontos realizados nas Semifinais:\n",
    "print(f'{semi1.name} ({semi1.ultimaMotivacao:.2f}) x {semi2.name} ({semi2.ultimaMotivacao:.2f})')\n",
    "print(f'{semi3.name} ({semi3.ultimaMotivacao:.2f}) x {semi4.name} ({semi4.ultimaMotivacao:.2f})')\n"
   ]
  },
  {
   "cell_type": "code",
   "execution_count": 25,
   "id": "d55ca9e0",
   "metadata": {},
   "outputs": [
    {
     "name": "stdout",
     "output_type": "stream",
     "text": [
      "1º: URU (86.59)\n",
      "2º: MEX (71.84)\n",
      "3º: BRA (78.17)\n",
      "4º: FRA (76.97)\n"
     ]
    }
   ],
   "source": [
    "##Simulando a final\n",
    "\n",
    "#       Além disso, também definir os 4 primeiros colocamos da Copa do Mundo de 2022:\n",
    "winner = final1 if final1.motivacao() > final2.motivacao() else final2\n",
    "second = final1 if final1.ultimaMotivacao < final2.ultimaMotivacao else final2\n",
    "third = terceiro1 if terceiro1.motivacao() > terceiro2.motivacao() else terceiro2\n",
    "fourth = terceiro1 if terceiro1.ultimaMotivacao < terceiro2.ultimaMotivacao else terceiro2\n",
    "\n",
    "# TODO: Imprimir os \"resultados\" dos confrontos realizados nas Finais:\n",
    "print(f'1º: {winner.name} ({winner.ultimaMotivacao:.2f})')\n",
    "print(f'2º: {second.name} ({second.ultimaMotivacao:.2f})')\n",
    "print(f'3º: {third.name} ({third.ultimaMotivacao:.2f})')\n",
    "print(f'4º: {fourth.name} ({fourth.ultimaMotivacao:.2f})')"
   ]
  },
  {
   "cell_type": "code",
   "execution_count": null,
   "id": "e7b71a51",
   "metadata": {},
   "outputs": [],
   "source": []
  }
 ],
 "metadata": {
  "kernelspec": {
   "display_name": "Python 3 (ipykernel)",
   "language": "python",
   "name": "python3"
  },
  "language_info": {
   "codemirror_mode": {
    "name": "ipython",
    "version": 3
   },
   "file_extension": ".py",
   "mimetype": "text/x-python",
   "name": "python",
   "nbconvert_exporter": "python",
   "pygments_lexer": "ipython3",
   "version": "3.9.12"
  }
 },
 "nbformat": 4,
 "nbformat_minor": 5
}
